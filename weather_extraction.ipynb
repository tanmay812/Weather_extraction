{
 "cells": [
  {
   "cell_type": "code",
   "execution_count": 1,
   "id": "1ad7ea5e",
   "metadata": {},
   "outputs": [],
   "source": [
    "#weather extraction\n",
    "import requests\n",
    "import bs4\n"
   ]
  },
  {
   "cell_type": "code",
   "execution_count": 53,
   "id": "a6861145",
   "metadata": {},
   "outputs": [],
   "source": [
    "def findTemp(): \n",
    "    ask = input('location:\\t')\n",
    "    url = f'https://www.google.com/search?q={ask}+weather'\n",
    "    r = requests.get(url,headers={'User-Agent': 'Mozilla/5.0 (Windows NT 10.0; Win64; x64) AppleWebKit/537.36 (KHTML, like Gecko) Chrome/122.0.0.0 Safari/537.36 Edg/122.0.0.0'})\n",
    "    beauty = bs4.BeautifulSoup(r.text,'lxml')\n",
    "    location = beauty.select('.BBwThe')[1].getText()\n",
    "\n",
    "    temp = beauty.select_one(\"#wob_tm\").getText()\n",
    "\n",
    "    if temp:\n",
    "        print(location ,':', temp)\n",
    "    else:\n",
    "        print(\"temperature not found!\")"
   ]
  },
  {
   "cell_type": "code",
   "execution_count": 58,
   "id": "188dc3de",
   "metadata": {},
   "outputs": [
    {
     "name": "stdout",
     "output_type": "stream",
     "text": [
      "location:\tdubai\n",
      "Dubai - United Arab Emirates : 27\n",
      "If you want to continue press 1 else press 0:0\n",
      "Thank You\n"
     ]
    }
   ],
   "source": [
    "while(1):\n",
    "    findTemp()\n",
    "    cont = int(input(\"If you want to continue press 1 else press 0:\"))\n",
    "    if(cont==0):\n",
    "        print(\"Thank You\")\n",
    "        break"
   ]
  }
 ],
 "metadata": {
  "kernelspec": {
   "display_name": "Python 3 (ipykernel)",
   "language": "python",
   "name": "python3"
  },
  "language_info": {
   "codemirror_mode": {
    "name": "ipython",
    "version": 3
   },
   "file_extension": ".py",
   "mimetype": "text/x-python",
   "name": "python",
   "nbconvert_exporter": "python",
   "pygments_lexer": "ipython3",
   "version": "3.9.12"
  }
 },
 "nbformat": 4,
 "nbformat_minor": 5
}
